{
 "cells": [
  {
   "cell_type": "markdown",
   "metadata": {},
   "source": [
    "In this notebook we will fit a model to predict the `inquire_product` label using the embeddings of the text from the LABSE model."
   ]
  },
  {
   "cell_type": "code",
   "execution_count": 1,
   "metadata": {},
   "outputs": [],
   "source": [
    "import pandas as pd\n",
    "import numpy as np\n",
    "import yaml\n",
    "import json\n",
    "\n",
    "from sklearn.model_selection import train_test_split\n",
    "from sklearn.metrics import classification_report, f1_score\n",
    "from sentence_transformers import SentenceTransformer\n",
    "\n",
    "from catboost import CatBoostClassifier\n",
    "\n",
    "import optuna\n"
   ]
  },
  {
   "cell_type": "code",
   "execution_count": 2,
   "metadata": {},
   "outputs": [],
   "source": [
    "# Let's define some functions to load and process the data\n",
    "def load_data_from_yaml(file_path: str) -> list[dict]:\n",
    "    \"\"\"\n",
    "    Load data from yaml file\n",
    "    \"\"\"\n",
    "    with open(file_path, 'r', encoding='utf-8') as f:\n",
    "        data = yaml.safe_load(f)\n",
    "    return data\n",
    "\n",
    "def history_to_string(history_list: list[dict]) -> str:\n",
    "    \"\"\"\n",
    "    Convert a list of conversation dictionaries to a single string containing only the content and role.\n",
    "    \"\"\"\n",
    "    return history_list[-1]['content']\n",
    "\n",
    "def yaml_to_df(file_path: str) -> pd.DataFrame:\n",
    "    \"\"\"\n",
    "    Convert yaml data to pandas dataframe.\n",
    "    \"\"\"\n",
    "    data = load_data_from_yaml(file_path)\n",
    "    df = pd.DataFrame(data)\n",
    "    return df"
   ]
  },
  {
   "cell_type": "code",
   "execution_count": 3,
   "metadata": {},
   "outputs": [
    {
     "data": {
      "text/html": [
       "<div>\n",
       "<style scoped>\n",
       "    .dataframe tbody tr th:only-of-type {\n",
       "        vertical-align: middle;\n",
       "    }\n",
       "\n",
       "    .dataframe tbody tr th {\n",
       "        vertical-align: top;\n",
       "    }\n",
       "\n",
       "    .dataframe thead th {\n",
       "        text-align: right;\n",
       "    }\n",
       "</style>\n",
       "<table border=\"1\" class=\"dataframe\">\n",
       "  <thead>\n",
       "    <tr style=\"text-align: right;\">\n",
       "      <th></th>\n",
       "      <th>history</th>\n",
       "      <th>inquire_product</th>\n",
       "    </tr>\n",
       "  </thead>\n",
       "  <tbody>\n",
       "    <tr>\n",
       "      <th>27</th>\n",
       "      <td>да, добавь сыр маасдам любой</td>\n",
       "      <td>False</td>\n",
       "    </tr>\n",
       "    <tr>\n",
       "      <th>3</th>\n",
       "      <td>добавь укроп</td>\n",
       "      <td>False</td>\n",
       "    </tr>\n",
       "    <tr>\n",
       "      <th>18</th>\n",
       "      <td>свечи да, давай поромантичнее</td>\n",
       "      <td>False</td>\n",
       "    </tr>\n",
       "    <tr>\n",
       "      <th>0</th>\n",
       "      <td>привет, добавь мне сок яблочный 1 л</td>\n",
       "      <td>False</td>\n",
       "    </tr>\n",
       "    <tr>\n",
       "      <th>23</th>\n",
       "      <td>да добавь</td>\n",
       "      <td>False</td>\n",
       "    </tr>\n",
       "    <tr>\n",
       "      <th>80</th>\n",
       "      <td>первый</td>\n",
       "      <td>False</td>\n",
       "    </tr>\n",
       "    <tr>\n",
       "      <th>42</th>\n",
       "      <td>да, добавь петелинку</td>\n",
       "      <td>False</td>\n",
       "    </tr>\n",
       "    <tr>\n",
       "      <th>103</th>\n",
       "      <td>вот да это всё в наборе</td>\n",
       "      <td>False</td>\n",
       "    </tr>\n",
       "    <tr>\n",
       "      <th>24</th>\n",
       "      <td>добавь в корзину овсяное печенье 3 пачки</td>\n",
       "      <td>False</td>\n",
       "    </tr>\n",
       "    <tr>\n",
       "      <th>92</th>\n",
       "      <td>можно батончик или что-то ещё</td>\n",
       "      <td>False</td>\n",
       "    </tr>\n",
       "  </tbody>\n",
       "</table>\n",
       "</div>"
      ],
      "text/plain": [
       "                                      history  inquire_product\n",
       "27               да, добавь сыр маасдам любой            False\n",
       "3                                добавь укроп            False\n",
       "18              свечи да, давай поромантичнее            False\n",
       "0         привет, добавь мне сок яблочный 1 л            False\n",
       "23                                  да добавь            False\n",
       "80                                     первый            False\n",
       "42                       да, добавь петелинку            False\n",
       "103                   вот да это всё в наборе            False\n",
       "24   добавь в корзину овсяное печенье 3 пачки            False\n",
       "92              можно батончик или что-то ещё            False"
      ]
     },
     "execution_count": 3,
     "metadata": {},
     "output_type": "execute_result"
    }
   ],
   "source": [
    "# Loading data and preparing it for the model\n",
    "df = yaml_to_df('../data/conversations.yaml')\n",
    "df['history'] = df['history'].apply(history_to_string)\n",
    "df = df.drop(columns=['messages_uuid'], axis=1)\n",
    "df = df.drop_duplicates(subset=['history'])\n",
    "df.sample(n=10)"
   ]
  },
  {
   "cell_type": "code",
   "execution_count": 4,
   "metadata": {},
   "outputs": [],
   "source": [
    "positive_df = df[df['inquire_product'] == True]\n",
    "negative_df = df[df['inquire_product'] == False]\n",
    "\n",
    "# Add all positive samples from the real data to the test dataset and 10 negative samples\n",
    "test_df = pd.concat([positive_df, negative_df.sample(n=13)])\n",
    "train_df = df.drop(test_df.index)"
   ]
  },
  {
   "cell_type": "code",
   "execution_count": 5,
   "metadata": {},
   "outputs": [],
   "source": [
    "# Load synthetic data and add it to the train dataset\n",
    "with open('../data/synthetic_data.json', 'r', encoding='utf-8') as f:\n",
    "    synthetic_data = json.load(f)\n",
    "    \n",
    "synthetic_df = pd.DataFrame(synthetic_data['questions'], columns=['history'])\n",
    "synthetic_df['inquire_product'] = True\n",
    "\n",
    "train_df = pd.concat([train_df, synthetic_df])"
   ]
  },
  {
   "cell_type": "code",
   "execution_count": 6,
   "metadata": {},
   "outputs": [],
   "source": [
    "X_train, X_val, y_train, y_val = train_test_split(train_df['history'], train_df['inquire_product'], test_size=0.4, random_state=1210)\n",
    "X_test, y_test = test_df['history'], test_df['inquire_product']"
   ]
  },
  {
   "cell_type": "markdown",
   "metadata": {},
   "source": [
    "# Generate embeddings for the text"
   ]
  },
  {
   "cell_type": "code",
   "execution_count": 9,
   "metadata": {},
   "outputs": [],
   "source": [
    "embedder = SentenceTransformer('sentence-transformers/LaBSE').to('cuda')"
   ]
  },
  {
   "cell_type": "code",
   "execution_count": 10,
   "metadata": {},
   "outputs": [],
   "source": [
    "X_train_embeddings = embedder.encode(X_train.tolist())\n",
    "X_val_embeddings = embedder.encode(X_val.tolist())\n",
    "X_test_embeddings = embedder.encode(X_test.tolist())"
   ]
  },
  {
   "cell_type": "markdown",
   "metadata": {},
   "source": [
    "# Select the best parameters for the model"
   ]
  },
  {
   "cell_type": "code",
   "execution_count": 18,
   "metadata": {},
   "outputs": [
    {
     "data": {
      "application/vnd.jupyter.widget-view+json": {
       "model_id": "279494156e7b4f7b8733f374350219ea",
       "version_major": 2,
       "version_minor": 0
      },
      "text/plain": [
       "  0%|          | 0/20 [00:00<?, ?it/s]"
      ]
     },
     "metadata": {},
     "output_type": "display_data"
    },
    {
     "name": "stdout",
     "output_type": "stream",
     "text": [
      "Best parameters: {'learning_rate': 0.005489278166788565, 'early_stopping_rounds': 805, 'iterations': 137, 'eval_metric': 'CrossEntropy', 'l2_leaf_reg': 10, 'depth': 7, 'random_strength': 0.6270957650683481}\n",
      "Best value: 0.8400000000000001\n"
     ]
    }
   ],
   "source": [
    "def objective(trial):\n",
    "    params = {\n",
    "        'learning_rate': trial.suggest_float('learning_rate', 0.001, 0.01),\n",
    "        'early_stopping_rounds': trial.suggest_int('early_stopping_rounds', 10, 1000),\n",
    "        'iterations': trial.suggest_int('iterations', 100, 1000),\n",
    "        'eval_metric': trial.suggest_categorical('eval_metric', ['TotalF1', 'Logloss', 'CrossEntropy']),\n",
    "        'l2_leaf_reg': trial.suggest_int('l2_leaf_reg', 0, 10),\n",
    "        'depth': trial.suggest_int('depth', 1, 8),\n",
    "        'random_strength': trial.suggest_float('random_strength', 0, 1),\n",
    "    }\n",
    "    model = CatBoostClassifier(random_seed=1210, verbose=0, class_weights=[1, 2], **params)\n",
    "    model.fit(X_train_embeddings, y_train, eval_set=(X_val_embeddings, y_val))\n",
    "    y_pred = model.predict(X_test_embeddings)\n",
    "    return f1_score(y_test, y_pred, average='macro')\n",
    "\n",
    "optuna.logging.set_verbosity(optuna.logging.WARNING)\n",
    "study = optuna.create_study(direction='maximize')\n",
    "study.optimize(objective, n_trials=20, show_progress_bar=True)\n",
    "\n",
    "print(f\"Best parameters: {study.best_params}\")\n",
    "print(f\"Best value: {study.best_value}\")"
   ]
  },
  {
   "cell_type": "markdown",
   "metadata": {},
   "source": [
    "# Fit the model with the best parameters"
   ]
  },
  {
   "cell_type": "code",
   "execution_count": 19,
   "metadata": {},
   "outputs": [
    {
     "name": "stdout",
     "output_type": "stream",
     "text": [
      "0:\tlearn: 0.6896646\ttest: 0.6903930\tbest: 0.6903930 (0)\ttotal: 41.9ms\tremaining: 5.7s\n",
      "136:\tlearn: 0.3944515\ttest: 0.4588701\tbest: 0.4588701 (136)\ttotal: 5.27s\tremaining: 0us\n",
      "\n",
      "bestTest = 0.4588701165\n",
      "bestIteration = 136\n",
      "\n"
     ]
    },
    {
     "data": {
      "text/plain": [
       "<catboost.core.CatBoostClassifier at 0x706af4d78ef0>"
      ]
     },
     "execution_count": 19,
     "metadata": {},
     "output_type": "execute_result"
    }
   ],
   "source": [
    "model = CatBoostClassifier(random_seed=1210,\n",
    "                           learning_rate=study.best_params['learning_rate'],\n",
    "                           early_stopping_rounds=study.best_params['early_stopping_rounds'],\n",
    "                           iterations=study.best_params['iterations'],\n",
    "                           verbose=500,\n",
    "                           use_best_model=True,\n",
    "                           eval_metric=study.best_params['eval_metric'],\n",
    "                           class_weights=[1, 2],\n",
    "                           l2_leaf_reg=study.best_params['l2_leaf_reg'],\n",
    "                           depth=study.best_params['depth'],\n",
    "                           random_strength=study.best_params['random_strength']\n",
    "                           )\n",
    "model.fit(X_train_embeddings, y_train, eval_set=(X_val_embeddings, y_val))"
   ]
  },
  {
   "cell_type": "code",
   "execution_count": 20,
   "metadata": {},
   "outputs": [
    {
     "name": "stdout",
     "output_type": "stream",
     "text": [
      "              precision    recall  f1-score   support\n",
      "\n",
      "       False       0.92      0.85      0.88        13\n",
      "        True       0.75      0.86      0.80         7\n",
      "\n",
      "    accuracy                           0.85        20\n",
      "   macro avg       0.83      0.85      0.84        20\n",
      "weighted avg       0.86      0.85      0.85        20\n",
      "\n",
      "F1 score: 0.8\n"
     ]
    }
   ],
   "source": [
    "y_pred = model.predict(X_test_embeddings)\n",
    "print(classification_report(y_test, y_pred))\n",
    "print(f\"F1 score: {f1_score(y_test, y_pred)}\")\n"
   ]
  }
 ],
 "metadata": {
  "kernelspec": {
   "display_name": "atom",
   "language": "python",
   "name": "python3"
  },
  "language_info": {
   "codemirror_mode": {
    "name": "ipython",
    "version": 3
   },
   "file_extension": ".py",
   "mimetype": "text/x-python",
   "name": "python",
   "nbconvert_exporter": "python",
   "pygments_lexer": "ipython3",
   "version": "3.12.8"
  }
 },
 "nbformat": 4,
 "nbformat_minor": 2
}
