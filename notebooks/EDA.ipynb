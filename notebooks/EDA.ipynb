{
 "cells": [
  {
   "cell_type": "markdown",
   "metadata": {},
   "source": [
    "## Exploratory Data Analysis\n",
    "In this notebook we will perform an exploratory data analysis on the dataset. We will load the data from the yaml and look at the distribution of the data.\n",
    "Let's think, that only last message in the dialog is important for the task."
   ]
  },
  {
   "cell_type": "code",
   "execution_count": 1,
   "metadata": {},
   "outputs": [],
   "source": [
    "import yaml\n",
    "import pandas as pd\n",
    "\n",
    "# Let's define some functions to load and process the data\n",
    "def load_data_from_yaml(file_path: str) -> list[dict]:\n",
    "    \"\"\"\n",
    "    Load data from yaml file\n",
    "    \"\"\"\n",
    "    with open(file_path, 'r', encoding='utf-8') as f:\n",
    "        data = yaml.safe_load(f)\n",
    "    return data\n",
    "\n",
    "def history_to_string(history_list: list[dict]) -> str:\n",
    "    \"\"\"\n",
    "    Convert a list of conversation dictionaries to a single string containing only the content and role.\n",
    "    \"\"\"\n",
    "    return history_list[-1]['content']\n",
    "\n",
    "def yaml_to_df(file_path: str) -> pd.DataFrame:\n",
    "    \"\"\"\n",
    "    Convert yaml data to pandas dataframe.\n",
    "    \"\"\"\n",
    "    data = load_data_from_yaml(file_path)\n",
    "    df = pd.DataFrame(data)\n",
    "    return df\n"
   ]
  },
  {
   "cell_type": "code",
   "execution_count": 2,
   "metadata": {},
   "outputs": [
    {
     "name": "stdout",
     "output_type": "stream",
     "text": [
      "<class 'pandas.core.frame.DataFrame'>\n",
      "RangeIndex: 116 entries, 0 to 115\n",
      "Data columns (total 3 columns):\n",
      " #   Column           Non-Null Count  Dtype \n",
      "---  ------           --------------  ----- \n",
      " 0   history          116 non-null    object\n",
      " 1   inquire_product  116 non-null    bool  \n",
      " 2   messages_uuid    116 non-null    object\n",
      "dtypes: bool(1), object(2)\n",
      "memory usage: 2.1+ KB\n"
     ]
    }
   ],
   "source": [
    "df = yaml_to_df('../data/conversations.yaml')\n",
    "df['history'] = df['history'].apply(history_to_string)\n",
    "df.info()"
   ]
  },
  {
   "cell_type": "markdown",
   "metadata": {},
   "source": [
    "Now we see, that we have only 116 conversations. It's not a lot, but I can use it for generating synthetic data."
   ]
  },
  {
   "cell_type": "code",
   "execution_count": 3,
   "metadata": {},
   "outputs": [
    {
     "data": {
      "text/plain": [
       "inquire_product\n",
       "False    109\n",
       "True       7\n",
       "Name: count, dtype: int64"
      ]
     },
     "execution_count": 3,
     "metadata": {},
     "output_type": "execute_result"
    }
   ],
   "source": [
    "df['inquire_product'].value_counts()"
   ]
  },
  {
   "cell_type": "markdown",
   "metadata": {},
   "source": [
    "Also, we can see, that we have only 7 examples of \"True\" class. It's very low, so we need to generate more data for this class."
   ]
  },
  {
   "cell_type": "code",
   "execution_count": 4,
   "metadata": {},
   "outputs": [
    {
     "name": "stdout",
     "output_type": "stream",
     "text": [
      "21            какой процент жирности у сыра лёгкий?\n",
      "22                    нужен с минимальной жирностью\n",
      "40                    он точно без сахара? добавляй\n",
      "49                        салфетки для машины есть?\n",
      "56     найди мне вкусный фруктовый торт с маракуйей\n",
      "83                             яйца есть подешевле?\n",
      "90    Есть шоколад с низким гликемическим индексом?\n",
      "Name: history, dtype: object\n"
     ]
    }
   ],
   "source": [
    "print(df[df['inquire_product'] == True]['history'])"
   ]
  },
  {
   "cell_type": "code",
   "execution_count": 6,
   "metadata": {},
   "outputs": [
    {
     "data": {
      "text/plain": [
       "0                    привет, добавь мне сок яблочный 1 л\n",
       "1                              ещё добавь твикс батончик\n",
       "2       добавь стиральный порошок ушастый нянь подешевле\n",
       "3                                           добавь укроп\n",
       "4                     перечисли всё что сейчас в корзине\n",
       "                             ...                        \n",
       "111    ну килограмм наверно не знаю трещина небольшая...\n",
       "112                            да предложи варианты плиз\n",
       "113                       давай закажем всё для шашлыков\n",
       "114         Найди томатный сок и средство для мытья окон\n",
       "115              давай сок добрый а для мытья окон спрей\n",
       "Name: history, Length: 116, dtype: object"
      ]
     },
     "execution_count": 6,
     "metadata": {},
     "output_type": "execute_result"
    }
   ],
   "source": [
    "df['history']"
   ]
  }
 ],
 "metadata": {
  "kernelspec": {
   "display_name": "atom",
   "language": "python",
   "name": "python3"
  },
  "language_info": {
   "codemirror_mode": {
    "name": "ipython",
    "version": 3
   },
   "file_extension": ".py",
   "mimetype": "text/x-python",
   "name": "python",
   "nbconvert_exporter": "python",
   "pygments_lexer": "ipython3",
   "version": "3.12.8"
  }
 },
 "nbformat": 4,
 "nbformat_minor": 2
}
