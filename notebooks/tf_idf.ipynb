{
 "cells": [
  {
   "cell_type": "markdown",
   "metadata": {},
   "source": [
    "In this notebook we will fit a model to predict the `inquire_product` label using the TF-IDF vectorizer."
   ]
  },
  {
   "cell_type": "code",
   "execution_count": 1,
   "metadata": {},
   "outputs": [],
   "source": [
    "import pandas as pd\n",
    "import numpy as np\n",
    "import yaml\n",
    "import json\n",
    "\n",
    "from sklearn.model_selection import train_test_split\n",
    "from sklearn.feature_extraction.text import TfidfVectorizer\n",
    "from sklearn.metrics import classification_report, f1_score\n",
    "\n",
    "from catboost import CatBoostClassifier\n",
    "\n",
    "import optuna\n"
   ]
  },
  {
   "cell_type": "code",
   "execution_count": 2,
   "metadata": {},
   "outputs": [],
   "source": [
    "# Let's define some functions to load and process the data\n",
    "def load_data_from_yaml(file_path: str) -> list[dict]:\n",
    "    \"\"\"\n",
    "    Load data from yaml file\n",
    "    \"\"\"\n",
    "    with open(file_path, 'r', encoding='utf-8') as f:\n",
    "        data = yaml.safe_load(f)\n",
    "    return data\n",
    "\n",
    "def history_to_string(history_list: list[dict]) -> str:\n",
    "    \"\"\"\n",
    "    Convert a list of conversation dictionaries to a single string containing only the content and role.\n",
    "    \"\"\"\n",
    "    return history_list[-1]['content']\n",
    "\n",
    "def yaml_to_df(file_path: str) -> pd.DataFrame:\n",
    "    \"\"\"\n",
    "    Convert yaml data to pandas dataframe.\n",
    "    \"\"\"\n",
    "    data = load_data_from_yaml(file_path)\n",
    "    df = pd.DataFrame(data)\n",
    "    return df\n"
   ]
  },
  {
   "cell_type": "code",
   "execution_count": 16,
   "metadata": {},
   "outputs": [
    {
     "data": {
      "text/html": [
       "<div>\n",
       "<style scoped>\n",
       "    .dataframe tbody tr th:only-of-type {\n",
       "        vertical-align: middle;\n",
       "    }\n",
       "\n",
       "    .dataframe tbody tr th {\n",
       "        vertical-align: top;\n",
       "    }\n",
       "\n",
       "    .dataframe thead th {\n",
       "        text-align: right;\n",
       "    }\n",
       "</style>\n",
       "<table border=\"1\" class=\"dataframe\">\n",
       "  <thead>\n",
       "    <tr style=\"text-align: right;\">\n",
       "      <th></th>\n",
       "      <th>history</th>\n",
       "      <th>inquire_product</th>\n",
       "    </tr>\n",
       "  </thead>\n",
       "  <tbody>\n",
       "    <tr>\n",
       "      <th>68</th>\n",
       "      <td>нужна говядина и курица а ещё маринад</td>\n",
       "      <td>False</td>\n",
       "    </tr>\n",
       "    <tr>\n",
       "      <th>98</th>\n",
       "      <td>да, котлеты например</td>\n",
       "      <td>False</td>\n",
       "    </tr>\n",
       "    <tr>\n",
       "      <th>17</th>\n",
       "      <td>да\\nчто бы ты ещё порекомендовал для атмосферы?</td>\n",
       "      <td>False</td>\n",
       "    </tr>\n",
       "    <tr>\n",
       "      <th>58</th>\n",
       "      <td>ок ещё чай с жасмином в пакетиках любой бренд</td>\n",
       "      <td>False</td>\n",
       "    </tr>\n",
       "    <tr>\n",
       "      <th>5</th>\n",
       "      <td>закажи сковородку 26 см</td>\n",
       "      <td>False</td>\n",
       "    </tr>\n",
       "    <tr>\n",
       "      <th>82</th>\n",
       "      <td>Найди куриное филе, яйца и молоко</td>\n",
       "      <td>False</td>\n",
       "    </tr>\n",
       "    <tr>\n",
       "      <th>36</th>\n",
       "      <td>маракуйя</td>\n",
       "      <td>False</td>\n",
       "    </tr>\n",
       "    <tr>\n",
       "      <th>42</th>\n",
       "      <td>да, добавь петелинку</td>\n",
       "      <td>False</td>\n",
       "    </tr>\n",
       "    <tr>\n",
       "      <th>35</th>\n",
       "      <td>собери продукты для лёгкого ужина для двух чел...</td>\n",
       "      <td>False</td>\n",
       "    </tr>\n",
       "    <tr>\n",
       "      <th>34</th>\n",
       "      <td>меньшей жирности и подешевле</td>\n",
       "      <td>False</td>\n",
       "    </tr>\n",
       "  </tbody>\n",
       "</table>\n",
       "</div>"
      ],
      "text/plain": [
       "                                              history  inquire_product\n",
       "68              нужна говядина и курица а ещё маринад            False\n",
       "98                               да, котлеты например            False\n",
       "17    да\\nчто бы ты ещё порекомендовал для атмосферы?            False\n",
       "58      ок ещё чай с жасмином в пакетиках любой бренд            False\n",
       "5                            закажи сковородку 26 см             False\n",
       "82                  Найди куриное филе, яйца и молоко            False\n",
       "36                                           маракуйя            False\n",
       "42                               да, добавь петелинку            False\n",
       "35  собери продукты для лёгкого ужина для двух чел...            False\n",
       "34                       меньшей жирности и подешевле            False"
      ]
     },
     "execution_count": 16,
     "metadata": {},
     "output_type": "execute_result"
    }
   ],
   "source": [
    "# Loading data and preparing it for the model\n",
    "df = yaml_to_df('../data/conversations.yaml')\n",
    "df['history'] = df['history'].apply(history_to_string)\n",
    "df = df.drop(columns=['messages_uuid'], axis=1)\n",
    "df = df.drop_duplicates(subset=['history'])\n",
    "df.sample(n=10)"
   ]
  },
  {
   "cell_type": "markdown",
   "metadata": {},
   "source": [
    "We are using synthetic data for model fitting. But we must use real data for evaluation and testing.\n",
    "\n",
    "Let's create a train-test split.\n",
    "\n",
    "I want to add all positive samples from the real data to the test dataset for the correct evaluation of the model."
   ]
  },
  {
   "cell_type": "code",
   "execution_count": 4,
   "metadata": {},
   "outputs": [],
   "source": [
    "positive_df = df[df['inquire_product'] == True]\n",
    "negative_df = df[df['inquire_product'] == False]\n",
    "\n",
    "# Add all positive samples from the real data to the test dataset and 10 negative samples\n",
    "test_df = pd.concat([positive_df, negative_df.sample(n=13)])\n",
    "train_df = df.drop(test_df.index)"
   ]
  },
  {
   "cell_type": "code",
   "execution_count": 5,
   "metadata": {},
   "outputs": [],
   "source": [
    "X_test, y_test = test_df['history'], test_df['inquire_product']"
   ]
  },
  {
   "cell_type": "code",
   "execution_count": 6,
   "metadata": {},
   "outputs": [],
   "source": [
    "# Load synthetic data and add it to the train dataset\n",
    "with open('../data/synthetic_data.json', 'r', encoding='utf-8') as f:\n",
    "    synthetic_data = json.load(f)\n",
    "synthetic_df = pd.DataFrame(synthetic_data['questions'], columns=['history'])\n",
    "synthetic_df['inquire_product'] = True"
   ]
  },
  {
   "cell_type": "markdown",
   "metadata": {},
   "source": [
    "## Parameter tuning\n",
    "Let's tune the parameters of the CatBoostClassifier for the best performance."
   ]
  },
  {
   "cell_type": "code",
   "execution_count": 7,
   "metadata": {},
   "outputs": [
    {
     "data": {
      "application/vnd.jupyter.widget-view+json": {
       "model_id": "501848482f47465788f8466388db5ab8",
       "version_major": 2,
       "version_minor": 0
      },
      "text/plain": [
       "  0%|          | 0/70 [00:00<?, ?it/s]"
      ]
     },
     "metadata": {},
     "output_type": "display_data"
    },
    {
     "data": {
      "text/plain": [
       "{'synthetic_samples': 0.8890971189579164,\n",
       " 'eval_size': 0.18840368550581074,\n",
       " 'max_df': 0.6634646438581575,\n",
       " 'min_df': 2,\n",
       " 'max_depth': 7,\n",
       " 'learning_rate': 0.06097840439321487,\n",
       " 'iterations': 6631,\n",
       " 'early_stopping_rounds': 21,\n",
       " 'loss_function': 'Logloss',\n",
       " 'bootstrap_type': 'MVS',\n",
       " 'random_strength': 0.0951724971782654}"
      ]
     },
     "execution_count": 7,
     "metadata": {},
     "output_type": "execute_result"
    }
   ],
   "source": [
    "def objective(trial):\n",
    "    params = {\n",
    "        'synthetic_samples': trial.suggest_float('synthetic_samples', 0.1, 1.0),\n",
    "        'eval_size': trial.suggest_float('eval_size', 0.1, 0.5),\n",
    "        'max_df' : trial.suggest_float('max_df', 0.5, 0.99),\n",
    "        'min_df' : trial.suggest_int('min_df', 1, 10),\n",
    "        'max_depth': trial.suggest_int('max_depth', 3, 10),\n",
    "        'learning_rate': trial.suggest_float('learning_rate', 0.001, 0.1),\n",
    "        'iterations': trial.suggest_int('iterations', 1000, 10000),\n",
    "        'early_stopping_rounds': trial.suggest_int('early_stopping_rounds', 10, 2000),\n",
    "        'loss_function': trial.suggest_categorical('loss_function', ['CrossEntropy', 'Logloss']),\n",
    "        'bootstrap_type': trial.suggest_categorical('bootstrap_type', ['Bayesian', 'Bernoulli', 'MVS']),\n",
    "        'random_strength': trial.suggest_float('random_strength', 0.0, 1.0),\n",
    "    }\n",
    "\n",
    "    RANDOM_SEED = 1210\n",
    "    # Add synthetic data to the train dataset\n",
    "    train = pd.concat([train_df, synthetic_df.sample(frac=params['synthetic_samples'], random_state=RANDOM_SEED)])\n",
    "    train, eval_df = train_test_split(train, test_size=params['eval_size'], random_state=RANDOM_SEED)\n",
    "    X_train, y_train = train['history'], train['inquire_product']\n",
    "    X_eval, y_eval = eval_df['history'], eval_df['inquire_product']\n",
    "    vectorizer = TfidfVectorizer(max_df=params['max_df'], min_df=params['min_df'])\n",
    "    X_train = vectorizer.fit_transform(X_train)\n",
    "    X_eval = vectorizer.transform(X_eval)\n",
    "    test = vectorizer.transform(X_test)\n",
    "    catboost_model = CatBoostClassifier(iterations=params['iterations'], early_stopping_rounds=params['early_stopping_rounds'],\n",
    "                                        learning_rate=params['learning_rate'], loss_function=params['loss_function'],\n",
    "                                        max_depth=params['max_depth'], use_best_model=True, verbose=0,\n",
    "                                        bootstrap_type=params['bootstrap_type'], random_strength=params['random_strength'],\n",
    "                                        # class_weights={False: 1, True: 2},\n",
    "                                        random_seed=RANDOM_SEED)\n",
    "    catboost_model.fit(X_train, y_train, eval_set=(X_eval, y_eval))\n",
    "    y_pred = catboost_model.predict(test)\n",
    "    return f1_score(y_test, y_pred, average='binary')\n",
    "\n",
    "optuna.logging.set_verbosity(optuna.logging.WARNING)\n",
    "study = optuna.create_study(direction='maximize')\n",
    "study.optimize(objective, n_trials=70, show_progress_bar=True, n_jobs=1)\n",
    "\n",
    "study.best_params"
   ]
  },
  {
   "cell_type": "markdown",
   "metadata": {},
   "source": [
    "# Implement the best parameters"
   ]
  },
  {
   "cell_type": "code",
   "execution_count": 8,
   "metadata": {},
   "outputs": [],
   "source": [
    "RANDOM_SEED = 1210"
   ]
  },
  {
   "cell_type": "code",
   "execution_count": 9,
   "metadata": {},
   "outputs": [],
   "source": [
    "train_df = pd.concat([train_df, synthetic_df.sample(frac=study.best_params['synthetic_samples'], random_state=RANDOM_SEED)])"
   ]
  },
  {
   "cell_type": "code",
   "execution_count": 10,
   "metadata": {},
   "outputs": [],
   "source": [
    "train_df, eval_df = train_test_split(train_df, test_size=study.best_params['eval_size'], random_state=RANDOM_SEED)"
   ]
  },
  {
   "cell_type": "code",
   "execution_count": 11,
   "metadata": {},
   "outputs": [
    {
     "name": "stdout",
     "output_type": "stream",
     "text": [
      "Train dataset shape: (158,)\n",
      "Test dataset shape: (20,)\n",
      "Eval dataset shape: (37,)\n"
     ]
    }
   ],
   "source": [
    "X_train, y_train = train_df['history'], train_df['inquire_product']\n",
    "X_eval, y_eval = eval_df['history'], eval_df['inquire_product']\n",
    "\n",
    "print(f\"Train dataset shape: {X_train.shape}\")\n",
    "print(f\"Test dataset shape: {X_test.shape}\")\n",
    "print(f\"Eval dataset shape: {X_eval.shape}\")"
   ]
  },
  {
   "cell_type": "code",
   "execution_count": 12,
   "metadata": {},
   "outputs": [],
   "source": [
    "# Vectorize the text\n",
    "vectorizer = TfidfVectorizer(max_df=study.best_params['max_df'], min_df=study.best_params['min_df'])\n",
    "X_train = vectorizer.fit_transform(X_train)\n",
    "X_test = vectorizer.transform(X_test)\n",
    "X_eval = vectorizer.transform(X_eval)"
   ]
  },
  {
   "cell_type": "code",
   "execution_count": 13,
   "metadata": {},
   "outputs": [
    {
     "name": "stdout",
     "output_type": "stream",
     "text": [
      "0:\tlearn: 0.6530080\ttest: 0.6609705\tbest: 0.6609705 (0)\ttotal: 1ms\tremaining: 6.64s\n",
      "1:\tlearn: 0.6187721\ttest: 0.6426394\tbest: 0.6426394 (1)\ttotal: 1.76ms\tremaining: 5.83s\n",
      "2:\tlearn: 0.5927933\ttest: 0.6130983\tbest: 0.6130983 (2)\ttotal: 2.45ms\tremaining: 5.41s\n",
      "3:\tlearn: 0.5679881\ttest: 0.5948513\tbest: 0.5948513 (3)\ttotal: 3.02ms\tremaining: 5.01s\n",
      "4:\tlearn: 0.5416663\ttest: 0.5739839\tbest: 0.5739839 (4)\ttotal: 3.6ms\tremaining: 4.77s\n",
      "5:\tlearn: 0.5171397\ttest: 0.5638998\tbest: 0.5638998 (5)\ttotal: 4.18ms\tremaining: 4.62s\n",
      "6:\tlearn: 0.4989884\ttest: 0.5526421\tbest: 0.5526421 (6)\ttotal: 4.76ms\tremaining: 4.51s\n",
      "7:\tlearn: 0.4842802\ttest: 0.5505244\tbest: 0.5505244 (7)\ttotal: 5.37ms\tremaining: 4.44s\n",
      "8:\tlearn: 0.4642179\ttest: 0.5446542\tbest: 0.5446542 (8)\ttotal: 5.94ms\tremaining: 4.37s\n",
      "9:\tlearn: 0.4483077\ttest: 0.5332701\tbest: 0.5332701 (9)\ttotal: 6.48ms\tremaining: 4.29s\n",
      "10:\tlearn: 0.4331732\ttest: 0.5139085\tbest: 0.5139085 (10)\ttotal: 7.04ms\tremaining: 4.24s\n",
      "11:\tlearn: 0.4198335\ttest: 0.5055800\tbest: 0.5055800 (11)\ttotal: 7.65ms\tremaining: 4.22s\n",
      "12:\tlearn: 0.4058833\ttest: 0.5013905\tbest: 0.5013905 (12)\ttotal: 8.28ms\tremaining: 4.22s\n",
      "13:\tlearn: 0.3946799\ttest: 0.4884668\tbest: 0.4884668 (13)\ttotal: 8.92ms\tremaining: 4.21s\n",
      "14:\tlearn: 0.3839085\ttest: 0.4801642\tbest: 0.4801642 (14)\ttotal: 9.53ms\tremaining: 4.2s\n",
      "15:\tlearn: 0.3746178\ttest: 0.4737445\tbest: 0.4737445 (15)\ttotal: 10.1ms\tremaining: 4.19s\n",
      "16:\tlearn: 0.3662428\ttest: 0.4627689\tbest: 0.4627689 (16)\ttotal: 10.7ms\tremaining: 4.17s\n",
      "17:\tlearn: 0.3568738\ttest: 0.4513680\tbest: 0.4513680 (17)\ttotal: 11.3ms\tremaining: 4.15s\n",
      "18:\tlearn: 0.3506277\ttest: 0.4433132\tbest: 0.4433132 (18)\ttotal: 12ms\tremaining: 4.16s\n",
      "19:\tlearn: 0.3420900\ttest: 0.4360117\tbest: 0.4360117 (19)\ttotal: 12.6ms\tremaining: 4.16s\n",
      "20:\tlearn: 0.3324398\ttest: 0.4316181\tbest: 0.4316181 (20)\ttotal: 13.2ms\tremaining: 4.17s\n",
      "21:\tlearn: 0.3250607\ttest: 0.4266268\tbest: 0.4266268 (21)\ttotal: 14ms\tremaining: 4.19s\n",
      "22:\tlearn: 0.3214588\ttest: 0.4270456\tbest: 0.4266268 (21)\ttotal: 14.6ms\tremaining: 4.2s\n",
      "23:\tlearn: 0.3141604\ttest: 0.4193409\tbest: 0.4193409 (23)\ttotal: 15.2ms\tremaining: 4.18s\n",
      "24:\tlearn: 0.3082810\ttest: 0.4176370\tbest: 0.4176370 (24)\ttotal: 15.8ms\tremaining: 4.17s\n",
      "25:\tlearn: 0.3052966\ttest: 0.4176657\tbest: 0.4176370 (24)\ttotal: 16.3ms\tremaining: 4.15s\n",
      "26:\tlearn: 0.3024622\ttest: 0.4177074\tbest: 0.4176370 (24)\ttotal: 16.9ms\tremaining: 4.13s\n",
      "27:\tlearn: 0.2962176\ttest: 0.4140544\tbest: 0.4140544 (27)\ttotal: 17.4ms\tremaining: 4.11s\n",
      "28:\tlearn: 0.2903798\ttest: 0.4040585\tbest: 0.4040585 (28)\ttotal: 18ms\tremaining: 4.09s\n",
      "29:\tlearn: 0.2838144\ttest: 0.4074199\tbest: 0.4040585 (28)\ttotal: 18.5ms\tremaining: 4.06s\n",
      "30:\tlearn: 0.2810044\ttest: 0.4065654\tbest: 0.4040585 (28)\ttotal: 19ms\tremaining: 4.04s\n",
      "31:\tlearn: 0.2782288\ttest: 0.4035090\tbest: 0.4035090 (31)\ttotal: 19.5ms\tremaining: 4.03s\n",
      "32:\tlearn: 0.2758788\ttest: 0.4039851\tbest: 0.4035090 (31)\ttotal: 20.1ms\tremaining: 4.01s\n",
      "33:\tlearn: 0.2697322\ttest: 0.3995456\tbest: 0.3995456 (33)\ttotal: 20.6ms\tremaining: 4s\n",
      "34:\tlearn: 0.2637278\ttest: 0.3998968\tbest: 0.3995456 (33)\ttotal: 21.2ms\tremaining: 4s\n",
      "35:\tlearn: 0.2607257\ttest: 0.3987030\tbest: 0.3987030 (35)\ttotal: 21.8ms\tremaining: 4s\n",
      "36:\tlearn: 0.2589463\ttest: 0.3980602\tbest: 0.3980602 (36)\ttotal: 22.4ms\tremaining: 4s\n",
      "37:\tlearn: 0.2542630\ttest: 0.3947819\tbest: 0.3947819 (37)\ttotal: 23ms\tremaining: 3.98s\n",
      "38:\tlearn: 0.2493043\ttest: 0.3866099\tbest: 0.3866099 (38)\ttotal: 23.6ms\tremaining: 3.98s\n",
      "39:\tlearn: 0.2470964\ttest: 0.3839794\tbest: 0.3839794 (39)\ttotal: 24.1ms\tremaining: 3.97s\n",
      "40:\tlearn: 0.2422945\ttest: 0.3813924\tbest: 0.3813924 (40)\ttotal: 24.6ms\tremaining: 3.96s\n",
      "41:\tlearn: 0.2401384\ttest: 0.3799604\tbest: 0.3799604 (41)\ttotal: 25.2ms\tremaining: 3.95s\n",
      "42:\tlearn: 0.2382070\ttest: 0.3780523\tbest: 0.3780523 (42)\ttotal: 25.7ms\tremaining: 3.94s\n",
      "43:\tlearn: 0.2335511\ttest: 0.3771380\tbest: 0.3771380 (43)\ttotal: 26.2ms\tremaining: 3.92s\n",
      "44:\tlearn: 0.2320384\ttest: 0.3741564\tbest: 0.3741564 (44)\ttotal: 26.7ms\tremaining: 3.91s\n",
      "45:\tlearn: 0.2272453\ttest: 0.3666375\tbest: 0.3666375 (45)\ttotal: 27.3ms\tremaining: 3.9s\n",
      "46:\tlearn: 0.2244932\ttest: 0.3655305\tbest: 0.3655305 (46)\ttotal: 27.8ms\tremaining: 3.9s\n",
      "47:\tlearn: 0.2234853\ttest: 0.3634738\tbest: 0.3634738 (47)\ttotal: 28.4ms\tremaining: 3.89s\n",
      "48:\tlearn: 0.2224188\ttest: 0.3638013\tbest: 0.3634738 (47)\ttotal: 28.9ms\tremaining: 3.88s\n",
      "49:\tlearn: 0.2187836\ttest: 0.3630586\tbest: 0.3630586 (49)\ttotal: 29.4ms\tremaining: 3.88s\n",
      "50:\tlearn: 0.2147369\ttest: 0.3597339\tbest: 0.3597339 (50)\ttotal: 30ms\tremaining: 3.87s\n",
      "51:\tlearn: 0.2111658\ttest: 0.3560453\tbest: 0.3560453 (51)\ttotal: 30.6ms\tremaining: 3.87s\n",
      "52:\tlearn: 0.2094718\ttest: 0.3565445\tbest: 0.3560453 (51)\ttotal: 31.1ms\tremaining: 3.86s\n",
      "53:\tlearn: 0.2066287\ttest: 0.3535817\tbest: 0.3535817 (53)\ttotal: 31.7ms\tremaining: 3.86s\n",
      "54:\tlearn: 0.2055938\ttest: 0.3522574\tbest: 0.3522574 (54)\ttotal: 32.2ms\tremaining: 3.85s\n",
      "55:\tlearn: 0.2043683\ttest: 0.3520140\tbest: 0.3520140 (55)\ttotal: 32.8ms\tremaining: 3.85s\n",
      "56:\tlearn: 0.2029441\ttest: 0.3509983\tbest: 0.3509983 (56)\ttotal: 33.4ms\tremaining: 3.85s\n",
      "57:\tlearn: 0.2016375\ttest: 0.3513634\tbest: 0.3509983 (56)\ttotal: 33.9ms\tremaining: 3.84s\n",
      "58:\tlearn: 0.1984408\ttest: 0.3525217\tbest: 0.3509983 (56)\ttotal: 34.4ms\tremaining: 3.84s\n",
      "59:\tlearn: 0.1969395\ttest: 0.3528974\tbest: 0.3509983 (56)\ttotal: 35ms\tremaining: 3.83s\n",
      "60:\tlearn: 0.1954839\ttest: 0.3515681\tbest: 0.3509983 (56)\ttotal: 35.5ms\tremaining: 3.83s\n",
      "61:\tlearn: 0.1914516\ttest: 0.3502168\tbest: 0.3502168 (61)\ttotal: 36.1ms\tremaining: 3.82s\n",
      "62:\tlearn: 0.1879229\ttest: 0.3508963\tbest: 0.3502168 (61)\ttotal: 36.6ms\tremaining: 3.81s\n",
      "63:\tlearn: 0.1864918\ttest: 0.3509021\tbest: 0.3502168 (61)\ttotal: 37.2ms\tremaining: 3.81s\n",
      "64:\tlearn: 0.1856112\ttest: 0.3498685\tbest: 0.3498685 (64)\ttotal: 37.7ms\tremaining: 3.81s\n",
      "65:\tlearn: 0.1821395\ttest: 0.3478743\tbest: 0.3478743 (65)\ttotal: 38.3ms\tremaining: 3.81s\n",
      "66:\tlearn: 0.1811792\ttest: 0.3469094\tbest: 0.3469094 (66)\ttotal: 38.8ms\tremaining: 3.8s\n",
      "67:\tlearn: 0.1777938\ttest: 0.3449413\tbest: 0.3449413 (67)\ttotal: 39.3ms\tremaining: 3.79s\n",
      "68:\tlearn: 0.1770117\ttest: 0.3449435\tbest: 0.3449413 (67)\ttotal: 39.9ms\tremaining: 3.79s\n",
      "69:\tlearn: 0.1742809\ttest: 0.3470584\tbest: 0.3449413 (67)\ttotal: 40.4ms\tremaining: 3.79s\n",
      "70:\tlearn: 0.1716739\ttest: 0.3471505\tbest: 0.3449413 (67)\ttotal: 40.9ms\tremaining: 3.78s\n",
      "71:\tlearn: 0.1707003\ttest: 0.3455626\tbest: 0.3449413 (67)\ttotal: 41.5ms\tremaining: 3.78s\n",
      "72:\tlearn: 0.1684813\ttest: 0.3435362\tbest: 0.3435362 (72)\ttotal: 42ms\tremaining: 3.77s\n",
      "73:\tlearn: 0.1676795\ttest: 0.3433159\tbest: 0.3433159 (73)\ttotal: 42.5ms\tremaining: 3.77s\n",
      "74:\tlearn: 0.1650699\ttest: 0.3418053\tbest: 0.3418053 (74)\ttotal: 43ms\tremaining: 3.76s\n",
      "75:\tlearn: 0.1635722\ttest: 0.3421201\tbest: 0.3418053 (74)\ttotal: 43.7ms\tremaining: 3.77s\n",
      "76:\tlearn: 0.1627342\ttest: 0.3419416\tbest: 0.3418053 (74)\ttotal: 44.2ms\tremaining: 3.76s\n",
      "77:\tlearn: 0.1619248\ttest: 0.3411401\tbest: 0.3411401 (77)\ttotal: 44.8ms\tremaining: 3.77s\n",
      "78:\tlearn: 0.1607026\ttest: 0.3418598\tbest: 0.3411401 (77)\ttotal: 45.4ms\tremaining: 3.76s\n",
      "79:\tlearn: 0.1582918\ttest: 0.3389863\tbest: 0.3389863 (79)\ttotal: 45.9ms\tremaining: 3.76s\n",
      "80:\tlearn: 0.1576038\ttest: 0.3385415\tbest: 0.3385415 (80)\ttotal: 46.4ms\tremaining: 3.75s\n",
      "81:\tlearn: 0.1566291\ttest: 0.3385293\tbest: 0.3385293 (81)\ttotal: 47ms\tremaining: 3.75s\n",
      "82:\tlearn: 0.1546207\ttest: 0.3348958\tbest: 0.3348958 (82)\ttotal: 47.5ms\tremaining: 3.75s\n",
      "83:\tlearn: 0.1536715\ttest: 0.3339432\tbest: 0.3339432 (83)\ttotal: 48ms\tremaining: 3.74s\n",
      "84:\tlearn: 0.1529499\ttest: 0.3334818\tbest: 0.3334818 (84)\ttotal: 48.6ms\tremaining: 3.74s\n",
      "85:\tlearn: 0.1519345\ttest: 0.3329843\tbest: 0.3329843 (85)\ttotal: 49ms\tremaining: 3.73s\n",
      "86:\tlearn: 0.1510292\ttest: 0.3314214\tbest: 0.3314214 (86)\ttotal: 49.6ms\tremaining: 3.73s\n",
      "87:\tlearn: 0.1492240\ttest: 0.3271531\tbest: 0.3271531 (87)\ttotal: 50.2ms\tremaining: 3.73s\n",
      "88:\tlearn: 0.1468524\ttest: 0.3232851\tbest: 0.3232851 (88)\ttotal: 50.7ms\tremaining: 3.73s\n",
      "89:\tlearn: 0.1463082\ttest: 0.3229542\tbest: 0.3229542 (89)\ttotal: 51.3ms\tremaining: 3.73s\n",
      "90:\tlearn: 0.1453165\ttest: 0.3232799\tbest: 0.3229542 (89)\ttotal: 51.9ms\tremaining: 3.73s\n",
      "91:\tlearn: 0.1428913\ttest: 0.3232094\tbest: 0.3229542 (89)\ttotal: 52.5ms\tremaining: 3.73s\n",
      "92:\tlearn: 0.1423637\ttest: 0.3234351\tbest: 0.3229542 (89)\ttotal: 53ms\tremaining: 3.73s\n",
      "93:\tlearn: 0.1408014\ttest: 0.3220001\tbest: 0.3220001 (93)\ttotal: 53.6ms\tremaining: 3.73s\n",
      "94:\tlearn: 0.1402787\ttest: 0.3214336\tbest: 0.3214336 (94)\ttotal: 54.2ms\tremaining: 3.73s\n",
      "95:\tlearn: 0.1397537\ttest: 0.3206558\tbest: 0.3206558 (95)\ttotal: 54.8ms\tremaining: 3.73s\n",
      "96:\tlearn: 0.1378701\ttest: 0.3203354\tbest: 0.3203354 (96)\ttotal: 55.4ms\tremaining: 3.73s\n",
      "97:\tlearn: 0.1372281\ttest: 0.3205468\tbest: 0.3203354 (96)\ttotal: 55.9ms\tremaining: 3.73s\n",
      "98:\tlearn: 0.1357093\ttest: 0.3199631\tbest: 0.3199631 (98)\ttotal: 56.5ms\tremaining: 3.73s\n",
      "99:\tlearn: 0.1349212\ttest: 0.3202608\tbest: 0.3199631 (98)\ttotal: 57ms\tremaining: 3.72s\n",
      "100:\tlearn: 0.1340535\ttest: 0.3181775\tbest: 0.3181775 (100)\ttotal: 57.5ms\tremaining: 3.72s\n",
      "101:\tlearn: 0.1336299\ttest: 0.3184060\tbest: 0.3181775 (100)\ttotal: 58.1ms\tremaining: 3.72s\n",
      "102:\tlearn: 0.1310325\ttest: 0.3220550\tbest: 0.3181775 (100)\ttotal: 58.6ms\tremaining: 3.72s\n",
      "103:\tlearn: 0.1306100\ttest: 0.3214290\tbest: 0.3181775 (100)\ttotal: 59.2ms\tremaining: 3.71s\n",
      "104:\tlearn: 0.1300348\ttest: 0.3211337\tbest: 0.3181775 (100)\ttotal: 59.8ms\tremaining: 3.71s\n",
      "105:\tlearn: 0.1277917\ttest: 0.3218767\tbest: 0.3181775 (100)\ttotal: 60.4ms\tremaining: 3.71s\n",
      "106:\tlearn: 0.1271634\ttest: 0.3212645\tbest: 0.3181775 (100)\ttotal: 60.9ms\tremaining: 3.71s\n",
      "107:\tlearn: 0.1248584\ttest: 0.3228145\tbest: 0.3181775 (100)\ttotal: 61.5ms\tremaining: 3.71s\n",
      "108:\tlearn: 0.1243870\ttest: 0.3219181\tbest: 0.3181775 (100)\ttotal: 62ms\tremaining: 3.71s\n",
      "109:\tlearn: 0.1236255\ttest: 0.3218805\tbest: 0.3181775 (100)\ttotal: 62.5ms\tremaining: 3.71s\n",
      "110:\tlearn: 0.1231375\ttest: 0.3210836\tbest: 0.3181775 (100)\ttotal: 63.1ms\tremaining: 3.71s\n",
      "111:\tlearn: 0.1227101\ttest: 0.3202500\tbest: 0.3181775 (100)\ttotal: 63.7ms\tremaining: 3.71s\n",
      "112:\tlearn: 0.1219253\ttest: 0.3192865\tbest: 0.3181775 (100)\ttotal: 64.2ms\tremaining: 3.7s\n",
      "113:\tlearn: 0.1199437\ttest: 0.3183308\tbest: 0.3181775 (100)\ttotal: 64.7ms\tremaining: 3.7s\n",
      "114:\tlearn: 0.1181927\ttest: 0.3160488\tbest: 0.3160488 (114)\ttotal: 65.3ms\tremaining: 3.7s\n",
      "115:\tlearn: 0.1164819\ttest: 0.3161333\tbest: 0.3160488 (114)\ttotal: 65.9ms\tremaining: 3.7s\n",
      "116:\tlearn: 0.1157837\ttest: 0.3163771\tbest: 0.3160488 (114)\ttotal: 66.4ms\tremaining: 3.7s\n",
      "117:\tlearn: 0.1142431\ttest: 0.3178756\tbest: 0.3160488 (114)\ttotal: 66.9ms\tremaining: 3.69s\n",
      "118:\tlearn: 0.1119979\ttest: 0.3173189\tbest: 0.3160488 (114)\ttotal: 67.5ms\tremaining: 3.69s\n",
      "119:\tlearn: 0.1116095\ttest: 0.3173020\tbest: 0.3160488 (114)\ttotal: 68.1ms\tremaining: 3.69s\n",
      "120:\tlearn: 0.1109579\ttest: 0.3182317\tbest: 0.3160488 (114)\ttotal: 68.6ms\tremaining: 3.69s\n",
      "121:\tlearn: 0.1091675\ttest: 0.3178914\tbest: 0.3160488 (114)\ttotal: 69.2ms\tremaining: 3.69s\n",
      "122:\tlearn: 0.1077815\ttest: 0.3178454\tbest: 0.3160488 (114)\ttotal: 69.8ms\tremaining: 3.69s\n",
      "123:\tlearn: 0.1072209\ttest: 0.3180748\tbest: 0.3160488 (114)\ttotal: 70.3ms\tremaining: 3.69s\n",
      "124:\tlearn: 0.1068285\ttest: 0.3180938\tbest: 0.3160488 (114)\ttotal: 70.9ms\tremaining: 3.69s\n",
      "125:\tlearn: 0.1064929\ttest: 0.3182560\tbest: 0.3160488 (114)\ttotal: 71.5ms\tremaining: 3.69s\n",
      "126:\tlearn: 0.1060585\ttest: 0.3179986\tbest: 0.3160488 (114)\ttotal: 72.1ms\tremaining: 3.69s\n",
      "127:\tlearn: 0.1048766\ttest: 0.3171704\tbest: 0.3160488 (114)\ttotal: 72.7ms\tremaining: 3.69s\n",
      "128:\tlearn: 0.1045062\ttest: 0.3161953\tbest: 0.3160488 (114)\ttotal: 73.3ms\tremaining: 3.69s\n",
      "129:\tlearn: 0.1039688\ttest: 0.3162044\tbest: 0.3160488 (114)\ttotal: 73.9ms\tremaining: 3.69s\n",
      "130:\tlearn: 0.1034424\ttest: 0.3164442\tbest: 0.3160488 (114)\ttotal: 74.4ms\tremaining: 3.69s\n",
      "131:\tlearn: 0.1018697\ttest: 0.3175888\tbest: 0.3160488 (114)\ttotal: 75ms\tremaining: 3.69s\n",
      "132:\tlearn: 0.1015031\ttest: 0.3167697\tbest: 0.3160488 (114)\ttotal: 75.5ms\tremaining: 3.69s\n",
      "133:\tlearn: 0.1009624\ttest: 0.3166380\tbest: 0.3160488 (114)\ttotal: 76.1ms\tremaining: 3.69s\n",
      "134:\tlearn: 0.1003873\ttest: 0.3167208\tbest: 0.3160488 (114)\ttotal: 76.6ms\tremaining: 3.69s\n",
      "135:\tlearn: 0.0992380\ttest: 0.3143080\tbest: 0.3143080 (135)\ttotal: 77.2ms\tremaining: 3.69s\n",
      "136:\tlearn: 0.0989734\ttest: 0.3145008\tbest: 0.3143080 (135)\ttotal: 77.9ms\tremaining: 3.69s\n",
      "137:\tlearn: 0.0977762\ttest: 0.3137778\tbest: 0.3137778 (137)\ttotal: 78.4ms\tremaining: 3.69s\n",
      "138:\tlearn: 0.0964142\ttest: 0.3134838\tbest: 0.3134838 (138)\ttotal: 79ms\tremaining: 3.69s\n",
      "139:\tlearn: 0.0961534\ttest: 0.3136980\tbest: 0.3134838 (138)\ttotal: 79.6ms\tremaining: 3.69s\n",
      "140:\tlearn: 0.0958146\ttest: 0.3135157\tbest: 0.3134838 (138)\ttotal: 80.2ms\tremaining: 3.69s\n",
      "141:\tlearn: 0.0953049\ttest: 0.3135561\tbest: 0.3134838 (138)\ttotal: 80.8ms\tremaining: 3.69s\n",
      "142:\tlearn: 0.0948090\ttest: 0.3127692\tbest: 0.3127692 (142)\ttotal: 81.4ms\tremaining: 3.69s\n",
      "143:\tlearn: 0.0945062\ttest: 0.3127131\tbest: 0.3127131 (143)\ttotal: 81.9ms\tremaining: 3.69s\n",
      "144:\tlearn: 0.0942158\ttest: 0.3124996\tbest: 0.3124996 (144)\ttotal: 82.5ms\tremaining: 3.69s\n",
      "145:\tlearn: 0.0927308\ttest: 0.3127403\tbest: 0.3124996 (144)\ttotal: 83ms\tremaining: 3.69s\n",
      "146:\tlearn: 0.0914690\ttest: 0.3147609\tbest: 0.3124996 (144)\ttotal: 83.6ms\tremaining: 3.69s\n",
      "147:\tlearn: 0.0912238\ttest: 0.3139959\tbest: 0.3124996 (144)\ttotal: 84.2ms\tremaining: 3.69s\n",
      "148:\tlearn: 0.0901479\ttest: 0.3151011\tbest: 0.3124996 (144)\ttotal: 84.8ms\tremaining: 3.69s\n",
      "149:\tlearn: 0.0896183\ttest: 0.3155807\tbest: 0.3124996 (144)\ttotal: 85.3ms\tremaining: 3.69s\n",
      "150:\tlearn: 0.0893833\ttest: 0.3157680\tbest: 0.3124996 (144)\ttotal: 85.9ms\tremaining: 3.69s\n",
      "151:\tlearn: 0.0886765\ttest: 0.3155917\tbest: 0.3124996 (144)\ttotal: 86.4ms\tremaining: 3.68s\n",
      "152:\tlearn: 0.0883082\ttest: 0.3157179\tbest: 0.3124996 (144)\ttotal: 87ms\tremaining: 3.68s\n",
      "153:\tlearn: 0.0876766\ttest: 0.3152607\tbest: 0.3124996 (144)\ttotal: 87.5ms\tremaining: 3.68s\n",
      "154:\tlearn: 0.0866337\ttest: 0.3155591\tbest: 0.3124996 (144)\ttotal: 88.1ms\tremaining: 3.68s\n",
      "155:\tlearn: 0.0859862\ttest: 0.3161280\tbest: 0.3124996 (144)\ttotal: 88.7ms\tremaining: 3.68s\n",
      "156:\tlearn: 0.0857572\ttest: 0.3161275\tbest: 0.3124996 (144)\ttotal: 89.3ms\tremaining: 3.68s\n",
      "157:\tlearn: 0.0855201\ttest: 0.3155656\tbest: 0.3124996 (144)\ttotal: 89.9ms\tremaining: 3.68s\n",
      "158:\tlearn: 0.0853194\ttest: 0.3157658\tbest: 0.3124996 (144)\ttotal: 90.5ms\tremaining: 3.68s\n",
      "159:\tlearn: 0.0847786\ttest: 0.3156204\tbest: 0.3124996 (144)\ttotal: 91.1ms\tremaining: 3.68s\n",
      "160:\tlearn: 0.0845472\ttest: 0.3157116\tbest: 0.3124996 (144)\ttotal: 91.6ms\tremaining: 3.68s\n",
      "161:\tlearn: 0.0842647\ttest: 0.3155850\tbest: 0.3124996 (144)\ttotal: 92.2ms\tremaining: 3.68s\n",
      "162:\tlearn: 0.0827619\ttest: 0.3190203\tbest: 0.3124996 (144)\ttotal: 92.7ms\tremaining: 3.68s\n",
      "163:\tlearn: 0.0824100\ttest: 0.3189617\tbest: 0.3124996 (144)\ttotal: 93.3ms\tremaining: 3.68s\n",
      "164:\tlearn: 0.0821861\ttest: 0.3187291\tbest: 0.3124996 (144)\ttotal: 93.8ms\tremaining: 3.67s\n",
      "165:\tlearn: 0.0814061\ttest: 0.3172632\tbest: 0.3124996 (144)\ttotal: 94.3ms\tremaining: 3.67s\n",
      "Stopped by overfitting detector  (21 iterations wait)\n",
      "\n",
      "bestTest = 0.3124995725\n",
      "bestIteration = 144\n",
      "\n",
      "Shrink model to first 145 iterations.\n"
     ]
    },
    {
     "data": {
      "text/plain": [
       "<catboost.core.CatBoostClassifier at 0x76dd227c21b0>"
      ]
     },
     "execution_count": 13,
     "metadata": {},
     "output_type": "execute_result"
    }
   ],
   "source": [
    "catboost_model = CatBoostClassifier(iterations=study.best_params['iterations'], early_stopping_rounds=study.best_params['early_stopping_rounds'],\n",
    "                                    use_best_model=True, learning_rate=study.best_params['learning_rate'],\n",
    "                                    loss_function=study.best_params['loss_function'], max_depth=study.best_params['max_depth'],\n",
    "                                    bootstrap_type=study.best_params['bootstrap_type'], random_strength=study.best_params['random_strength'],\n",
    "                                    random_seed=RANDOM_SEED)\n",
    "\n",
    "catboost_model.fit(X_train, y_train, eval_set=(X_eval, y_eval), verbose=True)"
   ]
  },
  {
   "cell_type": "code",
   "execution_count": 14,
   "metadata": {},
   "outputs": [
    {
     "name": "stdout",
     "output_type": "stream",
     "text": [
      "              precision    recall  f1-score   support\n",
      "\n",
      "       False       0.92      0.85      0.88        13\n",
      "        True       0.75      0.86      0.80         7\n",
      "\n",
      "    accuracy                           0.85        20\n",
      "   macro avg       0.83      0.85      0.84        20\n",
      "weighted avg       0.86      0.85      0.85        20\n",
      "\n"
     ]
    }
   ],
   "source": [
    "# test the model\n",
    "y_pred = catboost_model.predict(X_test)\n",
    "print(classification_report(y_test, y_pred))"
   ]
  },
  {
   "cell_type": "code",
   "execution_count": 17,
   "metadata": {},
   "outputs": [
    {
     "name": "stdout",
     "output_type": "stream",
     "text": [
      "F1 score: 0.8\n"
     ]
    }
   ],
   "source": [
    "print(f\"F1 score: {f1_score(y_test, y_pred, average='binary')}\")"
   ]
  },
  {
   "cell_type": "code",
   "execution_count": 22,
   "metadata": {},
   "outputs": [],
   "source": [
    "# Create DataFrame with features and their importance scores\n",
    "feature_importance_df = pd.DataFrame({\n",
    "    'feature': vectorizer.get_feature_names_out(),\n",
    "    'importance': catboost_model.feature_importances_\n",
    "})\n",
    "\n",
    "# Optionally sort by importance in descending order\n",
    "feature_importance_df = feature_importance_df.sort_values('importance', ascending=False)"
   ]
  },
  {
   "cell_type": "code",
   "execution_count": 28,
   "metadata": {},
   "outputs": [
    {
     "data": {
      "image/png": "[encoded data removed]",
      "text/plain": [
       "<Figure size 1000x500 with 1 Axes>"
      ]
     },
     "metadata": {},
     "output_type": "display_data"
    }
   ],
   "source": [
    "feature_importance_df.head(40).plot(kind='bar', x='feature', y='importance', figsize=(10, 5));"
   ]
  }
 ],
 "metadata": {
  "kernelspec": {
   "display_name": "atom",
   "language": "python",
   "name": "python3"
  },
  "language_info": {
   "codemirror_mode": {
    "name": "ipython",
    "version": 3
   },
   "file_extension": ".py",
   "mimetype": "text/x-python",
   "name": "python",
   "nbconvert_exporter": "python",
   "pygments_lexer": "ipython3",
   "version": "3.12.8"
  }
 },
 "nbformat": 4,
 "nbformat_minor": 2
}
